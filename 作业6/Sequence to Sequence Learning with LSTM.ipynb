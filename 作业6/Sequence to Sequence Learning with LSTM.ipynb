{
 "cells": [
  {
   "cell_type": "code",
   "execution_count": 1,
   "id": "7ca7c274-5ef4-4927-a51d-c3e073d5e4ed",
   "metadata": {},
   "outputs": [],
   "source": [
    "import os\n",
    "import torch\n",
    "import torch.nn as nn\n",
    "import torch.optim as optim\n",
    "import random\n",
    "import numpy as np\n",
    "import spacy\n",
    "import datasets\n",
    "import torchtext\n",
    "import tqdm\n",
    "import evaluate"
   ]
  },
  {
   "cell_type": "code",
   "execution_count": 2,
   "id": "e3da8659-9276-433e-a4e5-b24fa1edbc07",
   "metadata": {},
   "outputs": [],
   "source": [
    "seed = 1234\n",
    "\n",
    "random.seed(seed)\n",
    "np.random.seed(seed)\n",
    "torch.manual_seed(seed)\n",
    "torch.cuda.manual_seed(seed)\n",
    "torch.backends.cudnn.deterministic = True"
   ]
  },
  {
   "cell_type": "markdown",
   "id": "2622e91b-5d43-47f0-80cc-6b443ca877a5",
   "metadata": {},
   "source": [
    "# 数据集 Dataset"
   ]
  },
  {
   "cell_type": "markdown",
   "id": "ba78ba54-c2ce-4cd6-a007-a0eef8b2d8d2",
   "metadata": {},
   "source": [
    "## 1、添加一个Markdown单元格，在其中解释下方单元格的两行代码。\n",
    "设置 os.environ['HF_ENDPOINT'] = \\'https://hf-mirror.com' ，这样做具体改变了什么？\n",
    "为什么要设置HF_ENDPOINT=\\'https://hf-mirror.com'而非直接使用官方源？\n",
    "dataset = datasets.load_dataset(\"bentrevett/multi30k\") 这行代码具体完成了什么操作？"
   ]
  },
{
  "cell_type": "markdown",
  "id": "d8caee23-05d8-4adf-b49e-7b71497e6792",
  "metadata": {},
  "source": [
    "具体改变：\n",
    "1. 默认资源下载地址从官方源 huggingface.co 切换为国内镜像站 hf-mirror.com\n",
    "2. 此举主要解决国内用户因网络限制无法稳定访问官方源的问题，通过镜像站的国内服务器加速下载并避免超时；而 datasets.load_dataset(\"bentrevett/multi30k\") 则是从 Hugging Face Hub 下载并加载名为 multi30k 的多语言机器翻译数据集\n",
    "\n",
    "为何使用镜像而非官方源：\n",
    "1. 国内用户可能无法稳定连接 `huggingface.co`，导致下载失败或速度极慢。\n",
    "2. 镜像站与官方源文件结构完全一致，无需修改代码逻辑。\n",
    "\n",
    "数据标识解析：\n",
    "- bentrevett/multi30k 表示用户 bentrevett 上传的名为 multi30k 的数据集。\n",
    "\n",
    "下载与缓存：\n",
    "- 检查本地缓存（默认路径 ~/.cache/huggingface/datasets）是否已有该数据集。\n",
    "- 若未缓存，则从 Hugging Face Hub（或通过 HF_ENDPOINT 设置的镜像源）下载数据文件。\n",
    "\n",
    "加载数据：\n",
    "- 将数据集解析为 Dataset 或 DatasetDict 对象，可直接用于训练或分析。"
  ]
},
  {
   "cell_type": "code",
   "execution_count": 3,
   "id": "b9252205-3c97-4d2f-9493-4c287a96d529",
   "metadata": {},
   "outputs": [],
   "source": [
    "os.environ['HF_ENDPOINT'] = 'https://hf-mirror.com'\n",
    "dataset = datasets.load_dataset(\"bentrevett/multi30k\")"
   ]
  },
  {
   "cell_type": "markdown",
   "id": "6c2d2825-176a-462e-a705-a8eabc1e74fa",
   "metadata": {},
   "source": [
    "## 2、运行下方的单元格。\n",
    "你会看到数据集对象（一个DatasetDict）包含训练、验证和测试集，每个集合中的样本数量，以及每个集合中的特征（“en”和“de”）。\n"
   ]
  },
  {
   "cell_type": "code",
   "execution_count": 5,
   "id": "acb8be41-2e99-4b75-8946-291dd3d9eb2f",
   "metadata": {},
   "outputs": [
    {
     "data": {
      "text/plain": [
       "DatasetDict({\n",
       "    train: Dataset({\n",
       "        features: ['en', 'de'],\n",
       "        num_rows: 29000\n",
       "    })\n",
       "    validation: Dataset({\n",
       "        features: ['en', 'de'],\n",
       "        num_rows: 1014\n",
       "    })\n",
       "    test: Dataset({\n",
       "        features: ['en', 'de'],\n",
       "        num_rows: 1000\n",
       "    })\n",
       "})"
      ]
     },
     "execution_count": 5,
     "metadata": {},
     "output_type": "execute_result"
    }
   ],
   "source": [
    "dataset"
   ]
  },
  {
   "cell_type": "code",
   "execution_count": 6,
   "id": "8f1bfde2-6c0d-44c8-ad8a-3cbbbef10762",
   "metadata": {},
   "outputs": [],
   "source": [
    "train_data, valid_data, test_data = (\n",
    "    dataset[\"train\"],\n",
    "    dataset[\"validation\"],\n",
    "    dataset[\"test\"],\n",
    ")"
   ]
  },
  {
   "cell_type": "markdown",
   "id": "d484696a-9396-4fd7-980f-fd00297792b4",
   "metadata": {},
   "source": [
    "## 3、运行下方的单元格。\n",
    "我们可以索引每个数据集来查看单个示例。每个例子都有两个特征：“en”和“de”，是对应的英语和德语。"
   ]
  },
  {
   "cell_type": "code",
   "execution_count": 7,
   "id": "147b9a23-4da7-47a9-ad1b-26d5a81829a6",
   "metadata": {},
   "outputs": [
    {
     "data": {
      "text/plain": [
       "{'en': 'Two young, White males are outside near many bushes.',\n",
       " 'de': 'Zwei junge weiße Männer sind im Freien in der Nähe vieler Büsche.'}"
      ]
     },
     "execution_count": 7,
     "metadata": {},
     "output_type": "execute_result"
    }
   ],
   "source": [
    "train_data[0]"
   ]
  },
  {
   "cell_type": "markdown",
   "id": "23b1429d-4cfe-4edc-ab47-cfe84a2e7e78",
   "metadata": {},
   "source": [
    "接下来我们进行分词。英语/德语的分词较中文要直接，比如句子\"good morning!会被分词为[\"good\", \"morning\", \"!\"]序列。"
   ]
  },
  {
   "cell_type": "markdown",
   "id": "36e6770b-1ed5-4a09-b829-53b28dc64b82",
   "metadata": {},
   "source": [
    "下方的代码要成功安装en_core_web_sm和de_core_news_sm后才不会报错。"
   ]
  },
  {
   "cell_type": "markdown",
   "id": "1d641045-55c4-4af1-b541-8d496652da1a",
   "metadata": {},
   "source": [
    "# 分词器 Tokenizers"
   ]
  },
  {
   "cell_type": "code",
   "execution_count": 8,
   "id": "9cba52e3-bed9-4bee-aada-300b0fbc1a14",
   "metadata": {},
   "outputs": [],
   "source": [
    "en_nlp = spacy.load(\"en_core_web_sm\")\n",
    "de_nlp = spacy.load(\"de_core_news_sm\")"
   ]
  },
  {
   "cell_type": "markdown",
   "id": "0fc82932-3480-43ac-8ab4-27556c55c863",
   "metadata": {},
   "source": [
    "## 4、运行下方的单元格。\n",
    "我们可以使用.tokenizer方法调用每个spaCy模型的分词器，该方法接受字符串并返回Token对象序列。我们可以使用text属性从Token对象中获取字符串。"
   ]
  },
  {
   "cell_type": "code",
   "execution_count": 9,
   "id": "81969c24-f2ff-480b-b23e-a1984663fa44",
   "metadata": {},
   "outputs": [
    {
     "data": {
      "text/plain": [
       "['What', 'a', 'lovely', 'day', 'it', 'is', 'today', '!']"
      ]
     },
     "execution_count": 9,
     "metadata": {},
     "output_type": "execute_result"
    }
   ],
   "source": [
    "string = \"What a lovely day it is today!\"\n",
    "\n",
    "[token.text for token in en_nlp.tokenizer(string)]"
   ]
  },
  {
   "cell_type": "markdown",
   "id": "0a0cae27-6fbb-42c0-b97f-c84f6a029888",
   "metadata": {},
   "source": [
    "## 5、添加一个Markdown单元格，在其中解释下方单元格的函数的作用。"
   ]
  },
  {
   "cell_type": "markdown",
   "id": "d790e78a-85cb-4daa-98a7-41e2f2727d46",
   "metadata": {},
   "source": [
    "这个函数的作用是对输入的英语（en）和德语（de）文本进行分词和预处理。使用 en_nlp（英语分词器）对 example[\"en\"] 进行分词，生成英语 token 列表 en_tokens。\n",
    "使用 de_nlp（德语分词器）对 example[\"de\"] 进行分词，生成德语 token 列表 de_tokens。通过 max_length 限制每个列表的最大长度（超出部分截断）。\n",
    "在英语和德语的 token 列表首尾分别添加起始标记（sos_token）和结束标记（eos_token），用于标识句子边界。\n",
    "输出返回包含处理后的 en_tokens 和 de_tokens 的字典，通常用于后续任务（如机器翻译模型的输入和目标序列）。"
   ]
  },
  {
   "cell_type": "code",
   "execution_count": 10,
   "id": "3844e640-6983-4305-829b-47e9e61e84ed",
   "metadata": {},
   "outputs": [],
   "source": [
    "def tokenize_example(example, en_nlp, de_nlp, max_length, lower, sos_token, eos_token):\n",
    "    en_tokens = [token.text for token in en_nlp.tokenizer(example[\"en\"])][:max_length]\n",
    "    de_tokens = [token.text for token in de_nlp.tokenizer(example[\"de\"])][:max_length]\n",
    "    if lower:\n",
    "        en_tokens = [token.lower() for token in en_tokens]\n",
    "        de_tokens = [token.lower() for token in de_tokens]\n",
    "    en_tokens = [sos_token] + en_tokens + [eos_token]\n",
    "    de_tokens = [sos_token] + de_tokens + [eos_token]\n",
    "    return {\"en_tokens\": en_tokens, \"de_tokens\": de_tokens}"
   ]
  },
  {
   "cell_type": "markdown",
   "id": "5592a2be-cdc0-46f1-9316-7b5c089ecad5",
   "metadata": {},
   "source": [
    "## 6、添加一个Markdown单元格，在其中解释下方单元格出现的\\<sos>和\\<eos>的含义，以及map函数的作用。"
   ]
  },
  {
   "cell_type": "markdown",
   "id": "39a71ff8-20c0-4f9e-92a2-132040c34e7e",
   "metadata": {},
   "source": [
    "<sos>表示序列的起始标记，用于告诉模型“从这里开始生成或处理”。在机器翻译等序列生成任务中，解码器通常需要以 <sos> 作为初始输入，逐步生成后续内容。\n",
    "<eos>表示序列的结束标记，用于告诉模型“处理到此为止”。模型在生成过程中若遇到 <eos> 会停止输出，避免生成无限长的序列。\n",
    "map 函数的作用是对数据集（如 train_data、valid_data、test_data）中的每个样本（example）应用指定函数（此处为 tokenize_example），实现批量预处理。"
   ]
  },
  {
   "cell_type": "code",
   "execution_count": 11,
   "id": "3ecd5c6f-bd58-47c8-bb89-fec9612d5966",
   "metadata": {},
   "outputs": [],
   "source": [
    "max_length = 1_000\n",
    "lower = True\n",
    "sos_token = \"<sos>\"\n",
    "eos_token = \"<eos>\"\n",
    "\n",
    "fn_kwargs = {\n",
    "    \"en_nlp\": en_nlp,\n",
    "    \"de_nlp\": de_nlp,\n",
    "    \"max_length\": max_length,\n",
    "    \"lower\": lower,\n",
    "    \"sos_token\": sos_token,\n",
    "    \"eos_token\": eos_token,\n",
    "}\n",
    "\n",
    "train_data = train_data.map(tokenize_example, fn_kwargs=fn_kwargs)\n",
    "valid_data = valid_data.map(tokenize_example, fn_kwargs=fn_kwargs)\n",
    "test_data = test_data.map(tokenize_example, fn_kwargs=fn_kwargs)"
   ]
  },
  {
   "cell_type": "markdown",
   "id": "0d3f7f8e-2df7-4f13-ba35-afc229f31a05",
   "metadata": {},
   "source": [
    "## 7、运行下方的单元格\n",
    "重新打印train_data\\[0]，验证小写字符串列表以及序列标记的开始/结束符已被成功添加。"
   ]
  },
  {
   "cell_type": "code",
   "execution_count": 12,
   "id": "dd75e853-9650-4e89-bd40-bdf69de30fd8",
   "metadata": {},
   "outputs": [
    {
     "data": {
      "text/plain": [
       "{'en': 'Two young, White males are outside near many bushes.',\n",
       " 'de': 'Zwei junge weiße Männer sind im Freien in der Nähe vieler Büsche.',\n",
       " 'en_tokens': ['<sos>',\n",
       "  'two',\n",
       "  'young',\n",
       "  ',',\n",
       "  'white',\n",
       "  'males',\n",
       "  'are',\n",
       "  'outside',\n",
       "  'near',\n",
       "  'many',\n",
       "  'bushes',\n",
       "  '.',\n",
       "  '<eos>'],\n",
       " 'de_tokens': ['<sos>',\n",
       "  'zwei',\n",
       "  'junge',\n",
       "  'weiße',\n",
       "  'männer',\n",
       "  'sind',\n",
       "  'im',\n",
       "  'freien',\n",
       "  'in',\n",
       "  'der',\n",
       "  'nähe',\n",
       "  'vieler',\n",
       "  'büsche',\n",
       "  '.',\n",
       "  '<eos>']}"
      ]
     },
     "execution_count": 12,
     "metadata": {},
     "output_type": "execute_result"
    }
   ],
   "source": [
    "train_data[0]"
   ]
  },
  {
   "cell_type": "markdown",
   "id": "063696b6-6f4b-4a00-ae63-3a7ed5d9d902",
   "metadata": {},
   "source": [
    "# 词汇表 Vocabularies"
   ]
  },
  {
   "cell_type": "markdown",
   "id": "7caaa17f-7b36-4513-bdd9-d3b039f3d70f",
   "metadata": {},
   "source": [
    "下一个步骤是为源语言和目标语言构建词汇表，将词语映射为数字索引。比如\"hello\" = 1, \"world\" = 2, \"bye\" = 3, \"hates\" = 4。当向我们的模型提供文本数据时，我们使用词汇表作为look-up-table将字符串转换为标记，然后将标记转换为数字。“hello world”变成了“\\[“hello”，“world”]”，然后变成了“\\[1,2]”。"
   ]
  },
  {
   "cell_type": "code",
   "execution_count": 13,
   "id": "5e48b9e8-4642-4ddd-bcb2-ef4894eb3b45",
   "metadata": {},
   "outputs": [],
   "source": [
    "min_freq = 2\n",
    "unk_token = \"<unk>\"\n",
    "pad_token = \"<pad>\"\n",
    "\n",
    "special_tokens = [\n",
    "    unk_token,\n",
    "    pad_token,\n",
    "    sos_token,\n",
    "    eos_token,\n",
    "]\n",
    "\n",
    "en_vocab = torchtext.vocab.build_vocab_from_iterator(\n",
    "    train_data[\"en_tokens\"],\n",
    "    min_freq=min_freq,\n",
    "    specials=special_tokens,\n",
    ")\n",
    "\n",
    "de_vocab = torchtext.vocab.build_vocab_from_iterator(\n",
    "    train_data[\"de_tokens\"],\n",
    "    min_freq=min_freq,\n",
    "    specials=special_tokens,\n",
    ")"
   ]
  },
  {
   "cell_type": "markdown",
   "id": "34ec5ec4-d3a1-4c75-93f4-5b3d6541ba39",
   "metadata": {},
   "source": [
    "## 8、运行下方两个单元格\n",
    "验证词汇表，分别打印英语词汇表和德语词汇表的前十个Token。"
   ]
  },
  {
   "cell_type": "code",
   "execution_count": 14,
   "id": "dec0b00b-131f-4308-86bf-fa88b5840c05",
   "metadata": {},
   "outputs": [
    {
     "data": {
      "text/plain": [
       "['<unk>', '<pad>', '<sos>', '<eos>', 'a', '.', 'in', 'the', 'on', 'man']"
      ]
     },
     "execution_count": 14,
     "metadata": {},
     "output_type": "execute_result"
    }
   ],
   "source": [
    "en_vocab.get_itos()[:10]"
   ]
  },
  {
   "cell_type": "code",
   "execution_count": 15,
   "id": "980d9766-cc93-4c7a-8039-6ed0d8a3deed",
   "metadata": {},
   "outputs": [
    {
     "data": {
      "text/plain": [
       "['<unk>', '<pad>', '<sos>', '<eos>', '.', 'ein', 'einem', 'in', 'eine', ',']"
      ]
     },
     "execution_count": 15,
     "metadata": {},
     "output_type": "execute_result"
    }
   ],
   "source": [
    "de_vocab.get_itos()[:10]"
   ]
  },
  {
   "cell_type": "markdown",
   "id": "e7481a11-3890-4830-9447-923c125c5c3f",
   "metadata": {},
   "source": [
    "## 9、运行下方的单元格\n",
    "使用get_stoi（stoi = \"string to int \"）方法获取指定的Token的索引。"
   ]
  },
  {
   "cell_type": "code",
   "execution_count": 16,
   "id": "9a513dca-a743-4e98-9bfb-c6e7f4cab451",
   "metadata": {},
   "outputs": [
    {
     "data": {
      "text/plain": [
       "7"
      ]
     },
     "execution_count": 16,
     "metadata": {},
     "output_type": "execute_result"
    }
   ],
   "source": [
    "en_vocab[\"the\"]"
   ]
  },
  {
   "cell_type": "code",
   "execution_count": 17,
   "id": "caf5b0fc-170e-4711-b3bc-b2bdc501c625",
   "metadata": {},
   "outputs": [],
   "source": [
    "assert en_vocab[unk_token] == de_vocab[unk_token]\n",
    "assert en_vocab[pad_token] == de_vocab[pad_token]\n",
    "\n",
    "unk_index = en_vocab[unk_token]\n",
    "pad_index = en_vocab[pad_token]"
   ]
  },
  {
   "cell_type": "code",
   "execution_count": 18,
   "id": "41bc11ad-3582-4379-ae3f-48c1a7f53c90",
   "metadata": {},
   "outputs": [],
   "source": [
    "en_vocab.set_default_index(unk_index)\n",
    "de_vocab.set_default_index(unk_index)"
   ]
  },
  {
   "cell_type": "markdown",
   "id": "9cc78fdb-41b5-4232-9e15-7cbaf3bd3b30",
   "metadata": {},
   "source": [
    "词汇表的另一个有用特性是lookup_indices方法。它接受一个Token列表并返回一个索引列表。"
   ]
  },
  {
   "cell_type": "markdown",
   "id": "e59465bd-b28c-4c66-b919-e4d5e5f2b6ae",
   "metadata": {},
   "source": [
    "## 10、运行下方的单元格\n",
    "观察从Token列表到索引列表的转换。"
   ]
  },
  {
   "cell_type": "code",
   "execution_count": 19,
   "id": "d48a7850-61b9-41ff-84bf-0028e6549f55",
   "metadata": {},
   "outputs": [
    {
     "data": {
      "text/plain": [
       "[956, 2169, 173, 0, 821]"
      ]
     },
     "execution_count": 19,
     "metadata": {},
     "output_type": "execute_result"
    }
   ],
   "source": [
    "tokens = [\"i\", \"love\", \"watching\", \"crime\", \"shows\"]\n",
    "en_vocab.lookup_indices(tokens)"
   ]
  },
  {
   "cell_type": "markdown",
   "id": "cb6fe3c4-1187-4010-928e-d2811173f226",
   "metadata": {},
   "source": [
    "对应的，lookup_tokens方法使用词汇表将索引列表转换回Token列表。"
   ]
  },
  {
   "cell_type": "markdown",
   "id": "b94dbfeb-c43b-4c84-a79c-9ce98fb549c9",
   "metadata": {},
   "source": [
    "## 11、运行下方的单元格\n",
    "观察从索引列表到Token列表的转换。"
   ]
  },
  {
   "cell_type": "code",
   "execution_count": 20,
   "id": "0d3f8d6d-8c71-4cca-970c-d0cd7cae36b4",
   "metadata": {},
   "outputs": [
    {
     "data": {
      "text/plain": [
       "['i', 'love', 'watching', '<unk>', 'shows']"
      ]
     },
     "execution_count": 20,
     "metadata": {},
     "output_type": "execute_result"
    }
   ],
   "source": [
    "en_vocab.lookup_tokens(en_vocab.lookup_indices(tokens))"
   ]
  },
  {
   "cell_type": "markdown",
   "id": "ecd47f0e-67b1-40d8-aafd-9861de2af0a5",
   "metadata": {},
   "source": [
    "## 12、添加一个Markdown单元格，在其中解释为什么原本的\"crime\"被转换成了\\<unk>。"
   ]
  },
  {
   "cell_type": "markdown",
   "id": "a3207db9-c114-4a0f-b66b-54d0cc431b65",
   "metadata": {},
   "source": [
    "en_vocab 的词汇表未包含 \"crime\"，导致 lookup_indices() 方法无法找到其对应的索引，从而返回 <unk> 的索引。"
   ]
  },
  {
   "cell_type": "markdown",
   "id": "ba1ffabd-1cf4-4405-b879-1746b6cea4b0",
   "metadata": {},
   "source": [
    "## 13、添加一个Markdown单元格，在其中解释下方两个单元格中代码的作用。"
   ]
  },
  {
   "cell_type": "markdown",
   "id": "28a98585-0ed5-4bca-8c12-eb45d4a83a50",
   "metadata": {},
   "source": [
    "numericalize_example 函数的作用是将分词后的文本（如 [\"<sos>\", \"hello\", \"world\", \"<eos>\"]）转换为模型可处理的数值化索引序列（如 [1, 5, 3, 2]）。\n",
    "map 函数调用的作用是对数据集（训练集、验证集、测试集）中的每个样本应用 numericalize_example 函数，批量完成数值化转换。"
   ]
  },
  {
   "cell_type": "code",
   "execution_count": 21,
   "id": "4215d38b-f57f-4180-a914-ad792801696e",
   "metadata": {},
   "outputs": [],
   "source": [
    "def numericalize_example(example, en_vocab, de_vocab):\n",
    "    en_ids = en_vocab.lookup_indices(example[\"en_tokens\"])\n",
    "    de_ids = de_vocab.lookup_indices(example[\"de_tokens\"])\n",
    "    return {\"en_ids\": en_ids, \"de_ids\": de_ids}"
   ]
  },
  {
   "cell_type": "code",
   "execution_count": 22,
   "id": "6a1a9ed8-3524-47de-b672-424616b61ff0",
   "metadata": {},
   "outputs": [],
   "source": [
    "fn_kwargs = {\"en_vocab\": en_vocab, \"de_vocab\": de_vocab}\n",
    "\n",
    "train_data = train_data.map(numericalize_example, fn_kwargs=fn_kwargs)\n",
    "valid_data = valid_data.map(numericalize_example, fn_kwargs=fn_kwargs)\n",
    "test_data = test_data.map(numericalize_example, fn_kwargs=fn_kwargs)"
   ]
  },
  {
   "cell_type": "markdown",
   "id": "4806c528-330e-4ea9-94ef-3b3a27bc841d",
   "metadata": {},
   "source": [
    "## 14、运行下方的单元格\n",
    "重新打印train_data\\[0]，验证\"en_ids\" and \"de_ids\"被成功添加。"
   ]
  },
  {
   "cell_type": "code",
   "execution_count": 23,
   "id": "db9cb0a5-3f70-48c3-99f2-78dffde8d1ce",
   "metadata": {},
   "outputs": [
    {
     "data": {
      "text/plain": [
       "{'en': 'Two young, White males are outside near many bushes.',\n",
       " 'de': 'Zwei junge weiße Männer sind im Freien in der Nähe vieler Büsche.',\n",
       " 'en_tokens': ['<sos>',\n",
       "  'two',\n",
       "  'young',\n",
       "  ',',\n",
       "  'white',\n",
       "  'males',\n",
       "  'are',\n",
       "  'outside',\n",
       "  'near',\n",
       "  'many',\n",
       "  'bushes',\n",
       "  '.',\n",
       "  '<eos>'],\n",
       " 'de_tokens': ['<sos>',\n",
       "  'zwei',\n",
       "  'junge',\n",
       "  'weiße',\n",
       "  'männer',\n",
       "  'sind',\n",
       "  'im',\n",
       "  'freien',\n",
       "  'in',\n",
       "  'der',\n",
       "  'nähe',\n",
       "  'vieler',\n",
       "  'büsche',\n",
       "  '.',\n",
       "  '<eos>'],\n",
       " 'en_ids': [2, 16, 24, 15, 25, 778, 17, 57, 80, 202, 1312, 5, 3],\n",
       " 'de_ids': [2, 18, 26, 253, 30, 84, 20, 88, 7, 15, 110, 7647, 3171, 4, 3]}"
      ]
     },
     "execution_count": 23,
     "metadata": {},
     "output_type": "execute_result"
    }
   ],
   "source": [
    "train_data[0]"
   ]
  },
  {
   "cell_type": "markdown",
   "id": "2d8695bc-1b7e-40cd-add9-4b5e70255474",
   "metadata": {},
   "source": [
    "Dataset类为我们处理的另一件事是将features转换为正确的类型。每个例子中的索引目前都是基本的Python整数。然而，为了在PyTorch中使用它们，它们需要转换为PyTorch张量。with_format方法将columns参数转换为给定的类型。这里，我们指定类型为“torch”，columns为“en_ids”和“de_ids”（我们想要转换为PyTorch张量的features）。默认情况下，with_format将删除任何不在传递给列的features列表中的features。我们希望保留这些features，这可以通过output_all_columns=True来实现。"
   ]
  },
  {
   "cell_type": "code",
   "execution_count": 24,
   "id": "79545101-9743-412f-8f95-6b41b3691383",
   "metadata": {},
   "outputs": [],
   "source": [
    "data_type = \"torch\"\n",
    "format_columns = [\"en_ids\", \"de_ids\"]\n",
    "\n",
    "train_data = train_data.with_format(\n",
    "    type=data_type, columns=format_columns, output_all_columns=True\n",
    ")\n",
    "\n",
    "valid_data = valid_data.with_format(\n",
    "    type=data_type,\n",
    "    columns=format_columns,\n",
    "    output_all_columns=True,\n",
    ")\n",
    "\n",
    "test_data = test_data.with_format(\n",
    "    type=data_type,\n",
    "    columns=format_columns,\n",
    "    output_all_columns=True,\n",
    ")"
   ]
  },
  {
   "cell_type": "markdown",
   "id": "ed4c29f2-e3f0-45ab-a587-e866196a6dc6",
   "metadata": {},
   "source": [
    "## 15、运行下方的单元格\n",
    "重新打印train_data[0]，验证“en_ids”和“de_ids”特征被转换为了张量。"
   ]
  },
  {
   "cell_type": "code",
   "execution_count": 25,
   "id": "3849e6ae-930e-4acc-9b1d-e3556bcce64a",
   "metadata": {},
   "outputs": [
    {
     "data": {
      "text/plain": [
       "{'en_ids': tensor([   2,   16,   24,   15,   25,  778,   17,   57,   80,  202, 1312,    5,\n",
       "            3]),\n",
       " 'de_ids': tensor([   2,   18,   26,  253,   30,   84,   20,   88,    7,   15,  110, 7647,\n",
       "         3171,    4,    3]),\n",
       " 'en': 'Two young, White males are outside near many bushes.',\n",
       " 'de': 'Zwei junge weiße Männer sind im Freien in der Nähe vieler Büsche.',\n",
       " 'en_tokens': ['<sos>',\n",
       "  'two',\n",
       "  'young',\n",
       "  ',',\n",
       "  'white',\n",
       "  'males',\n",
       "  'are',\n",
       "  'outside',\n",
       "  'near',\n",
       "  'many',\n",
       "  'bushes',\n",
       "  '.',\n",
       "  '<eos>'],\n",
       " 'de_tokens': ['<sos>',\n",
       "  'zwei',\n",
       "  'junge',\n",
       "  'weiße',\n",
       "  'männer',\n",
       "  'sind',\n",
       "  'im',\n",
       "  'freien',\n",
       "  'in',\n",
       "  'der',\n",
       "  'nähe',\n",
       "  'vieler',\n",
       "  'büsche',\n",
       "  '.',\n",
       "  '<eos>']}"
      ]
     },
     "execution_count": 25,
     "metadata": {},
     "output_type": "execute_result"
    }
   ],
   "source": [
    "train_data[0]"
   ]
  },
  {
   "cell_type": "markdown",
   "id": "2215fdb1-e6c8-442f-85ad-0acc14f975e4",
   "metadata": {},
   "source": [
    "# Data Loaders"
   ]
  },
  {
   "cell_type": "markdown",
   "id": "a3999066-9e9d-4163-9a5e-6388a7f1257d",
   "metadata": {},
   "source": [
    "数据准备的最后一步是创建Data Loaders。可以对它们进行迭代以返回一批数据，每一批数据都是一个字典，其中包含数字化的英语和德语句子作为PyTorch张量。"
   ]
  },
  {
   "cell_type": "markdown",
   "id": "eb97ce04-eb63-4b1a-bf4d-05a6a92429ce",
   "metadata": {},
   "source": [
    "## 16、添加一个Markdown单元格，在其中解释下方两个单元格中的函数的作用。"
   ]
  },
  {
   "cell_type": "markdown",
   "id": "8608c627-25e0-4954-af73-85c1d65fa255",
   "metadata": {},
   "source": [
    "get_collate_fn 函数的作用是生成一个自定义的批处理函数（collate_fn），用于将多个样本的变长序列填充对齐，使它们可以被批量处理（如输入模型训练）。\n",
    "get_data_loader 函数的作用是创建一个 PyTorch 数据加载器（DataLoader），用于按批次加载数据集，并应用自定义的 collate_fn 对齐数据。"
   ]
  },
  {
   "cell_type": "code",
   "execution_count": 26,
   "id": "54bd07f1-3612-40b7-a975-c2cdb36e659e",
   "metadata": {},
   "outputs": [],
   "source": [
    "def get_collate_fn(pad_index):\n",
    "    def collate_fn(batch):\n",
    "        batch_en_ids = [example[\"en_ids\"] for example in batch]\n",
    "        batch_de_ids = [example[\"de_ids\"] for example in batch]\n",
    "        batch_en_ids = nn.utils.rnn.pad_sequence(batch_en_ids, padding_value=pad_index)\n",
    "        batch_de_ids = nn.utils.rnn.pad_sequence(batch_de_ids, padding_value=pad_index)\n",
    "        batch = {\n",
    "            \"en_ids\": batch_en_ids,\n",
    "            \"de_ids\": batch_de_ids,\n",
    "        }\n",
    "        return batch\n",
    "\n",
    "    return collate_fn"
   ]
  },
  {
   "cell_type": "code",
   "execution_count": 27,
   "id": "dd4c6b4e-7658-4bf3-a9a0-7330adb9a306",
   "metadata": {},
   "outputs": [],
   "source": [
    "def get_data_loader(dataset, batch_size, pad_index, shuffle=False):\n",
    "    collate_fn = get_collate_fn(pad_index)\n",
    "    data_loader = torch.utils.data.DataLoader(\n",
    "        dataset=dataset,\n",
    "        batch_size=batch_size,\n",
    "        collate_fn=collate_fn,\n",
    "        shuffle=shuffle,\n",
    "    )\n",
    "    return data_loader"
   ]
  },
  {
   "cell_type": "code",
   "execution_count": 28,
   "id": "1a614ad7-3e3c-4e3c-9f43-77a2e6339a18",
   "metadata": {},
   "outputs": [],
   "source": [
    "batch_size = 128\n",
    "\n",
    "train_data_loader = get_data_loader(train_data, batch_size, pad_index, shuffle=True)\n",
    "valid_data_loader = get_data_loader(valid_data, batch_size, pad_index)\n",
    "test_data_loader = get_data_loader(test_data, batch_size, pad_index)"
   ]
  },
  {
   "cell_type": "markdown",
   "id": "903bc123-9f68-4869-93bc-a7fcb20831b7",
   "metadata": {},
   "source": [
    "# 构建模型"
   ]
  },
  {
   "cell_type": "markdown",
   "id": "1256f787-0176-4e44-977a-da6b501c5907",
   "metadata": {},
   "source": [
    "我们将分三部分构建模型。编码器，解码器和封装编码器和解码器的seq2seq模型。"
   ]
  },
  {
   "cell_type": "markdown",
   "id": "4904a57f-84c4-4787-b4c7-d69ef8ddcdb2",
   "metadata": {},
   "source": [
    "# 编码器 Encoder"
   ]
  },
  {
   "cell_type": "markdown",
   "id": "bbf545ae-d9ee-4aba-a4b4-7bc2fb5a83c1",
   "metadata": {},
   "source": [
    "首先是编码器，它是一个2层的LSTM。"
   ]
  },
  {
   "cell_type": "markdown",
   "id": "caeb655f-6d63-42e9-b8ce-4e98185c97bd",
   "metadata": {},
   "source": [
    "## 17、添加一个Markdown单元格，解释下方单元格中Encoder类的代码。\n",
    "包括输入参数，核心组件（词嵌入层、LSTM层、Dropout层），forwad函数的处理流程，和输出。"
   ]
  },
  {
   "cell_type": "code",
   "execution_count": 30,
   "id": "512be237-5282-402a-bd56-0a3db024bfc7",
   "metadata": {},
   "outputs": [],
   "source": [
    "class Encoder(nn.Module):\n",
    "    def __init__(self, input_dim, embedding_dim, hidden_dim, n_layers, dropout):\n",
    "        super().__init__()\n",
    "        self.hidden_dim = hidden_dim\n",
    "        self.n_layers = n_layers\n",
    "        self.embedding = nn.Embedding(input_dim, embedding_dim)\n",
    "        self.rnn = nn.LSTM(embedding_dim, hidden_dim, n_layers, dropout=dropout)\n",
    "        self.dropout = nn.Dropout(dropout)\n",
    "\n",
    "    def forward(self, src):\n",
    "        # src = [src length, batch size]\n",
    "        embedded = self.dropout(self.embedding(src))\n",
    "        # embedded = [src length, batch size, embedding dim]\n",
    "        outputs, (hidden, cell) = self.rnn(embedded)\n",
    "        # outputs = [src length, batch size, hidden dim * n directions]\n",
    "        # hidden = [n layers * n directions, batch size, hidden dim]\n",
    "        # cell = [n layers * n directions, batch size, hidden dim]\n",
    "        # outputs are always from the top hidden layer\n",
    "        return hidden, cell"
   ]
  },
  {
   "cell_type": "markdown",
   "id": "3992773c-d7f4-49c1-a872-c6f9eaf83945",
   "metadata": {},
   "source": [
    "# 解码器 Decoder"
   ]
  },
  {
   "cell_type": "markdown",
   "id": "d531e7fa-ede2-4e93-800f-3da327afbe15",
   "metadata": {},
   "source": [
    "接下来是解码器，它需要与编码器对齐，同样是一个2层的LSTM。"
   ]
  },
  {
   "cell_type": "markdown",
   "id": "3fcc87ba-7e67-4937-9540-298645a254d2",
   "metadata": {},
   "source": [
    "## 18、添加一个Markdown单元格，描述Decoder的工作流程。"
   ]
  },
  {
   "cell_type": "markdown",
   "id": "6da75534-d7b5-461f-869e-49c7cb92281e",
   "metadata": {},
   "source": [
    "1.初始化参数与层定义\n",
    "2. 前向传播流程 (forward)分为输入预处理（input = input.unsqueeze(0)  # [batch_size] → [1, batch_size]），词嵌入与正则化（embedded = self.dropout(self.embedding(input))  # [1, 64] → [1, 64, 256]），LSTM时序处理（output, (hidden, cell) = self.rnn(embedded, (hidden, cell))），预测输出生成（prediction = self.fc_out(output.squeeze(0))  # [1,64,512] → [64, 512] → [64, 10000]）\n",
    "3.关键设计解析\n",
    "4.状态传递机制\n",
    "5.与Seq2Seq的协作"
   ]
  },
  {
   "cell_type": "code",
   "execution_count": 50,
   "id": "5a34ea80-8a0e-4136-bf36-e84e9918bba4",
   "metadata": {},
   "outputs": [],
   "source": [
    "class Decoder(nn.Module):\n",
    "    def __init__(self, output_dim, embedding_dim, hidden_dim, n_layers, dropout):\n",
    "        super().__init__()\n",
    "        self.output_dim = output_dim    # 目标词汇表大小（如英文词表）\n",
    "        self.hidden_dim = hidden_dim    # 隐藏层维度（需与Encoder一致）\n",
    "        self.n_layers = n_layers        # LSTM层数（需与Encoder一致）\n",
    "        self.embedding = nn.Embedding(output_dim, embedding_dim)   # 词嵌入层：将离散词索引转为连续向量\n",
    "        self.rnn = nn.LSTM(embedding_dim, hidden_dim, n_layers, dropout=dropout)    # LSTM层：处理时序依赖关系\n",
    "        self.fc_out = nn.Linear(hidden_dim, output_dim)     # 全连接层：将LSTM输出映射到目标词汇表维度\n",
    "        self.dropout = nn.Dropout(dropout)       # Dropout层：防止过拟合\n",
    "\n",
    "    def forward(self, input, hidden, cell):\n",
    "        # input = [batch size]\n",
    "        # hidden = [n layers * n directions, batch size, hidden dim]\n",
    "        # cell = [n layers * n directions, batch size, hidden dim]\n",
    "        # n directions in the decoder will both always be 1, therefore:\n",
    "        # hidden = [n layers, batch size, hidden dim]\n",
    "        # context = [n layers, batch size, hidden dim]\n",
    "        input = input.unsqueeze(0)\n",
    "        # input = [1, batch size]\n",
    "        embedded = self.dropout(self.embedding(input))\n",
    "        # embedded = [1, batch size, embedding dim]\n",
    "        output, (hidden, cell) = self.rnn(embedded, (hidden, cell))\n",
    "        # output = [seq length, batch size, hidden dim * n directions]\n",
    "        # hidden = [n layers * n directions, batch size, hidden dim]\n",
    "        # cell = [n layers * n directions, batch size, hidden dim]\n",
    "        # seq length and n directions will always be 1 in this decoder, therefore:\n",
    "        # output = [1, batch size, hidden dim]\n",
    "        # hidden = [n layers, batch size, hidden dim]\n",
    "        # cell = [n layers, batch size, hidden dim]\n",
    "        prediction = self.fc_out(output.squeeze(0))\n",
    "        # prediction = [batch size, output dim]\n",
    "        return prediction, hidden, cell"
   ]
  },
  {
   "cell_type": "markdown",
   "id": "de5228cc-d5b6-42aa-8f3d-4f4203bce779",
   "metadata": {},
   "source": [
    "# Seq2Seq"
   ]
  },
  {
   "cell_type": "markdown",
   "id": "44f23b86-69bd-4f2c-ac28-d7b4f758760b",
   "metadata": {},
   "source": [
    "## 19、添加一个Markdown单元格，解释下方单元格中Seq2Seq类的代码。\n",
    "包括forward函数的流程，以及teacher forcing机制。"
   ]
  },
  {
   "cell_type": "markdown",
   "id": "ba4d8d5c-50e6-4bac-ad23-1cb526d9a86b",
   "metadata": {},
   "source": [
    "类结构：\n",
    "self.encoder = encoder    # 编码器组件\n",
    "self.decoder = decoder    # 解码器组件\n",
    "self.device = device      # 计算设备（CPU/GPU）\n",
    "#确保编码器和解码器的隐藏层维度一致\n",
    "assert encoder.hidden_dim == decoder.hidden_dim\n",
    "#确保编码器和解码器的层数一致\n",
    "assert encoder.n_layers == decoder.n_layers\n",
    "\n",
    "Forward函数流程：输入维度处理，编码阶段，解码初始化，循环解码。\n",
    "\n",
    "Teacher Forcing机制是动态输入选择，以teacher_forcing_ratio概率使用真实标签作为下一个输入，以1 - teacher_forcing_ratio概率使用模型预测结果。\n"
   ]
  },
  {
   "cell_type": "code",
   "execution_count": 42,
   "id": "01c299fd-4100-4d5b-97a1-755263f82219",
   "metadata": {},
   "outputs": [],
   "source": [
    "class Seq2Seq(nn.Module):\n",
    "    def __init__(self, encoder, decoder, device):\n",
    "        super().__init__()\n",
    "        self.encoder = encoder    # 编码器组件\n",
    "        self.decoder = decoder    # 解码器组件\n",
    "        self.device = device      # 计算设备（CPU/GPU）\n",
    "         # 确保编码器和解码器的隐藏层维度一致\n",
    "        assert (\n",
    "            encoder.hidden_dim == decoder.hidden_dim\n",
    "        ), \"Hidden dimensions of encoder and decoder must be equal!\"\n",
    "         # 确保编码器和解码器的层数一致\n",
    "        assert (\n",
    "            encoder.n_layers == decoder.n_layers\n",
    "        ), \"Encoder and decoder must have equal number of layers!\"\n",
    "\n",
    "    def forward(self, src, trg, teacher_forcing_ratio):\n",
    "        # src = [src length, batch size]\n",
    "        # trg = [trg length, batch size]\n",
    "        # teacher_forcing_ratio is probability to use teacher forcing\n",
    "        # e.g. if teacher_forcing_ratio is 0.75 we use ground-truth inputs 75% of the time\n",
    "        batch_size = trg.shape[1]   # 获取批次大小\n",
    "        trg_length = trg.shape[0]   # 获取目标序列长度\n",
    "        trg_vocab_size = self.decoder.output_dim  # 获取目标词汇表大小\n",
    "        # tensor to store decoder outputs\n",
    "        outputs = torch.zeros(trg_length, batch_size, trg_vocab_size).to(self.device)\n",
    "        # last hidden state of the encoder is used as the initial hidden state of the decoder\n",
    "        hidden, cell = self.encoder(src)   # 编码器处理源序列\n",
    "        # hidden/cell形状：[num_layers, batch_size, hidden_dim]\n",
    "        # hidden = [n layers * n directions, batch size, hidden dim]\n",
    "        # cell = [n layers * n directions, batch size, hidden dim]\n",
    "        # first input to the decoder is the <sos> tokens\n",
    "        input = trg[0, :]   # 初始输入为<sos>标记\n",
    "        # input = [batch size]\n",
    "        for t in range(1, trg_length):\n",
    "             # 解码步骤\n",
    "            # insert input token embedding, previous hidden and previous cell states\n",
    "            # receive output tensor (predictions) and new hidden and cell states\n",
    "            output, hidden, cell = self.decoder(input, hidden, cell)  \n",
    "            # output = [batch size, output dim]\n",
    "            # hidden = [n layers, batch size, hidden dim]\n",
    "            # cell = [n layers, batch size, hidden dim]\n",
    "            # place predictions in a tensor holding predictions for each token\n",
    "            outputs[t] = output  # 存储当前时间步的输出\n",
    "            # decide if we are going to use teacher forcing or not\n",
    "            # Teacher Forcing决策\n",
    "            teacher_force = random.random() < teacher_forcing_ratio\n",
    "            # get the highest predicted token from our predictions\n",
    "            top1 = output.argmax(1)  # 获取预测词（贪婪搜索）\n",
    "            # if teacher forcing, use actual next token as next input\n",
    "            # if not, use predicted token\n",
    "            input = trg[t] if teacher_force else top1  # 选择下一个输入\n",
    "            # input = [batch size]\n",
    "        return outputs"
   ]
  },
  {
   "cell_type": "markdown",
   "id": "71189c9c-cc9a-458a-ab7e-19ffcef26a55",
   "metadata": {},
   "source": [
    "# 模型训练\n",
    "\n",
    "模型初始化"
   ]
  },
  {
   "cell_type": "markdown",
   "id": "18adb086-5353-45da-9800-a47063f7d2bd",
   "metadata": {},
   "source": [
    "## 20、添加注释\n",
    "分别将“# 编码器初始化”，“# 解码器初始化”，“# Seq2Seq模型整合”这三行注释加到下方单元格中正确的位置"
   ]
  },
  {
   "cell_type": "code",
   "execution_count": 43,
   "id": "f12d2d0b-2105-45a3-89ac-40ade4845eff",
   "metadata": {},
   "outputs": [],
   "source": [
    "input_dim = len(de_vocab)\n",
    "output_dim = len(en_vocab)\n",
    "encoder_embedding_dim = 256\n",
    "decoder_embedding_dim = 256\n",
    "hidden_dim = 512\n",
    "n_layers = 2\n",
    "encoder_dropout = 0.5\n",
    "decoder_dropout = 0.5\n",
    "device = torch.device(\"cuda\" if torch.cuda.is_available() else \"cpu\")\n",
    "# 编码器初始化\n",
    "encoder = Encoder(\n",
    "    input_dim,\n",
    "    encoder_embedding_dim,\n",
    "    hidden_dim,\n",
    "    n_layers,\n",
    "    encoder_dropout,\n",
    ")\n",
    "# 解码器初始化\n",
    "decoder = Decoder(\n",
    "    output_dim,\n",
    "    decoder_embedding_dim,\n",
    "    hidden_dim,\n",
    "    n_layers,\n",
    "    decoder_dropout,\n",
    ")\n",
    "# Seq2Seq模型整合\n",
    "model = Seq2Seq(encoder, decoder, device).to(device)"
   ]
  },
  {
   "cell_type": "markdown",
   "id": "3c2f3581-ccc8-4aaf-b544-4d89e0eb869e",
   "metadata": {},
   "source": [
    "权重初始化"
   ]
  },
  {
   "cell_type": "code",
   "execution_count": 34,
   "id": "1b0b4404-1dbc-4630-8d3e-52c3427d2f49",
   "metadata": {},
   "outputs": [
    {
     "data": {
      "text/plain": [
       "Seq2Seq(\n",
       "  (encoder): Encoder(\n",
       "    (embedding): Embedding(7853, 256)\n",
       "    (rnn): LSTM(256, 512, num_layers=2, dropout=0.5)\n",
       "    (dropout): Dropout(p=0.5, inplace=False)\n",
       "  )\n",
       "  (decoder): Decoder(\n",
       "    (embedding): Embedding(5893, 256)\n",
       "    (rnn): LSTM(256, 512, num_layers=2, dropout=0.5)\n",
       "    (fc_out): Linear(in_features=512, out_features=5893, bias=True)\n",
       "    (dropout): Dropout(p=0.5, inplace=False)\n",
       "  )\n",
       ")"
      ]
     },
     "execution_count": 34,
     "metadata": {},
     "output_type": "execute_result"
    }
   ],
   "source": [
    "def init_weights(m):\n",
    "    for name, param in m.named_parameters():\n",
    "        nn.init.uniform_(param.data, -0.08, 0.08)\n",
    "\n",
    "\n",
    "model.apply(init_weights)"
   ]
  },
  {
   "cell_type": "code",
   "execution_count": 35,
   "id": "a146d3ae-d9f8-40f4-8e2c-d81cb362b5f7",
   "metadata": {},
   "outputs": [
    {
     "name": "stdout",
     "output_type": "stream",
     "text": [
      "The model has 13,898,501 trainable parameters\n"
     ]
    }
   ],
   "source": [
    "def count_parameters(model):\n",
    "    return sum(p.numel() for p in model.parameters() if p.requires_grad)\n",
    "\n",
    "\n",
    "print(f\"The model has {count_parameters(model):,} trainable parameters\")"
   ]
  },
  {
   "cell_type": "markdown",
   "id": "f19b693d-57d4-45c4-9fdd-e1042ef42aef",
   "metadata": {},
   "source": [
    "优化器 optimizer"
   ]
  },
  {
   "cell_type": "code",
   "execution_count": 36,
   "id": "b5fdfbe3-73e1-479c-95df-da01395855df",
   "metadata": {},
   "outputs": [],
   "source": [
    "optimizer = optim.Adam(model.parameters())"
   ]
  },
  {
   "cell_type": "markdown",
   "id": "2a3793da-c790-4abd-bd2f-baee3726e720",
   "metadata": {},
   "source": [
    "损失函数 Loss Function"
   ]
  },
  {
   "cell_type": "code",
   "execution_count": 37,
   "id": "358af1b3-989e-4b68-bda7-6780a94ac5a2",
   "metadata": {},
   "outputs": [],
   "source": [
    "criterion = nn.CrossEntropyLoss(ignore_index=pad_index)"
   ]
  },
  {
   "cell_type": "markdown",
   "id": "8df50249-0783-48ba-be5f-118edc0ad124",
   "metadata": {},
   "source": [
    "Training Loop:"
   ]
  },
  {
   "cell_type": "markdown",
   "id": "303b2cd6-6b5e-4297-96e8-cdf6a5516e00",
   "metadata": {},
   "source": [
    "## 21、给下方单元格中的代码逐行加注释"
   ]
  },
  {
   "cell_type": "code",
   "execution_count": 44,
   "id": "93031467-134e-4b6f-8939-35604d615757",
   "metadata": {},
   "outputs": [],
   "source": [
    "# 定义训练函数\n",
    "def train_fn(\n",
    "    model , data_loader,  optimizer, criterion, clip, teacher_forcing_ratio, device\n",
    "): # 要训练的模型  # 数据加载器，用于批量加载数据  # 优化器，用于更新模型参数  # 损失函数，用于计算模型输出与目标之间的差异  # 梯度裁剪的阈值，防止梯度爆炸\n",
    "     # 教师强制比例，控制使用真实标签作为输入的概率  # 计算设备（如'cuda'或'cpu'）\n",
    "    model.train()   # 将模型设置为训练模式（这会启用dropout和batch normalization等训练特定行为）\n",
    "    epoch_loss = 0      # 初始化epoch损失为0\n",
    "    for i, batch in enumerate(data_loader):  # 遍历数据加载器中的每个批次\n",
    "        src = batch[\"de_ids\"].to(device)    # 获取源语言（德语）数据并移动到指定设备\n",
    "        trg = batch[\"en_ids\"].to(device)    # 获取目标语言（英语）数据并移动到指定设备\n",
    "        # src = [src length, batch size]    # 注释说明张量形状：\n",
    "        # trg = [trg length, batch size]\n",
    "        optimizer.zero_grad()   # 清除优化器中之前的梯度\n",
    "        output = model(src, trg, teacher_forcing_ratio)  # teacher_forcing_ratio控制是否使用真实标签作为解码器输入\n",
    "        # output = [trg length, batch size, trg vocab size]   # 目标语言序列长度 × 批次大小 × 目标词汇表大小\n",
    "        output_dim = output.shape[-1]  # 获取输出词汇表维度大小\n",
    "        output = output[1:].view(-1, output_dim)  # 将输出展平为二维张量 [(trg length - 1) * batch size, trg vocab size]\n",
    "        # output = [(trg length - 1) * batch size, trg vocab size]\n",
    "        trg = trg[1:].view(-1)    # 同样忽略第一个时间步，展平为一维张量\n",
    "        # trg = [(trg length - 1) * batch size]\n",
    "        loss = criterion(output, trg)        # 计算损失：模型输出与真实标签之间的差异\n",
    "        loss.backward()    # 反向传播：计算梯度\n",
    "        torch.nn.utils.clip_grad_norm_(model.parameters(), clip)   # 梯度裁剪：防止梯度爆炸\n",
    "        optimizer.step()    # 更新模型参数\n",
    "        epoch_loss += loss.item()              # 累加当前批次的损失值\n",
    "    return epoch_loss / len(data_loader)      # 返回整个epoch的平均损失"
   ]
  },
  {
   "cell_type": "markdown",
   "id": "001182c6-a272-4619-a14a-554f71a38959",
   "metadata": {},
   "source": [
    "Evaluation Loop:"
   ]
  },
  {
   "cell_type": "code",
   "execution_count": 39,
   "id": "b1451af6-886e-4156-8329-9953946770f5",
   "metadata": {},
   "outputs": [],
   "source": [
    "def evaluate_fn(model, data_loader, criterion, device):\n",
    "    model.eval()\n",
    "    epoch_loss = 0\n",
    "    with torch.no_grad():\n",
    "        for i, batch in enumerate(data_loader):\n",
    "            src = batch[\"de_ids\"].to(device)\n",
    "            trg = batch[\"en_ids\"].to(device)\n",
    "            # src = [src length, batch size]\n",
    "            # trg = [trg length, batch size]\n",
    "            output = model(src, trg, 0)  # turn off teacher forcing\n",
    "            # output = [trg length, batch size, trg vocab size]\n",
    "            output_dim = output.shape[-1]\n",
    "            output = output[1:].view(-1, output_dim)\n",
    "            # output = [(trg length - 1) * batch size, trg vocab size]\n",
    "            trg = trg[1:].view(-1)\n",
    "            # trg = [(trg length - 1) * batch size]\n",
    "            loss = criterion(output, trg)\n",
    "            epoch_loss += loss.item()\n",
    "    return epoch_loss / len(data_loader)"
   ]
  },
  {
   "cell_type": "markdown",
   "id": "9af161fa-c13d-4b29-8f1e-9cde9df2db01",
   "metadata": {},
   "source": [
    "# 模型训练"
   ]
  },
  {
   "cell_type": "code",
   "execution_count": 40,
   "id": "ad17913a-3a71-48bc-bffd-cf0a2fce0302",
   "metadata": {},
   "outputs": [
    {
     "name": "stderr",
     "output_type": "stream",
     "text": [
      "100%|███████████████████████████████████████████████████████████████████████████████████| 1/1 [15:59<00:00, 959.16s/it]"
     ]
    },
    {
     "name": "stdout",
     "output_type": "stream",
     "text": [
      "\tTrain Loss:   5.028 | Train PPL: 152.638\n",
      "\tValid Loss:   4.885 | Valid PPL: 132.285\n"
     ]
    },
    {
     "name": "stderr",
     "output_type": "stream",
     "text": [
      "\n"
     ]
    }
   ],
   "source": [
    "n_epochs = 1 # 因模型训练对计算资源要求较高，此处只设立了一轮训练。\n",
    "clip = 1.0\n",
    "teacher_forcing_ratio = 0.5\n",
    "\n",
    "best_valid_loss = float(\"inf\")\n",
    "\n",
    "for epoch in tqdm.tqdm(range(n_epochs)):\n",
    "    train_loss = train_fn(\n",
    "        model,\n",
    "        train_data_loader,\n",
    "        optimizer,\n",
    "        criterion,\n",
    "        clip,\n",
    "        teacher_forcing_ratio,\n",
    "        device,\n",
    "    )\n",
    "    valid_loss = evaluate_fn(\n",
    "        model,\n",
    "        valid_data_loader,\n",
    "        criterion,\n",
    "        device,\n",
    "    )\n",
    "    if valid_loss < best_valid_loss:\n",
    "        best_valid_loss = valid_loss\n",
    "        torch.save(model.state_dict(), \"tut1-model.pt\")\n",
    "    print(f\"\\tTrain Loss: {train_loss:7.3f} | Train PPL: {np.exp(train_loss):7.3f}\")\n",
    "    print(f\"\\tValid Loss: {valid_loss:7.3f} | Valid PPL: {np.exp(valid_loss):7.3f}\")"
   ]
  },
  {
   "cell_type": "markdown",
   "id": "9eb020a4-a430-4cab-aba7-75d979e45a42",
   "metadata": {},
   "source": [
    "# 模型验证"
   ]
  },
  {
   "cell_type": "code",
   "execution_count": 45,
   "id": "48e02700-a4de-4496-8fc0-3f5fb5efbcbc",
   "metadata": {},
   "outputs": [
    {
     "data": {
      "text/plain": [
       "<All keys matched successfully>"
      ]
     },
     "execution_count": 45,
     "metadata": {},
     "output_type": "execute_result"
    }
   ],
   "source": [
    "model.load_state_dict(torch.load(\"tut1-model.pt\"))"
   ]
  },
  {
   "cell_type": "code",
   "execution_count": 46,
   "id": "e8f3d054-ad9e-4683-9bfd-737ddec77a4d",
   "metadata": {},
   "outputs": [],
   "source": [
    "def translate_sentence(\n",
    "    sentence,\n",
    "    model,\n",
    "    en_nlp,\n",
    "    de_nlp,\n",
    "    en_vocab,\n",
    "    de_vocab,\n",
    "    lower,\n",
    "    sos_token,\n",
    "    eos_token,\n",
    "    device,\n",
    "    max_output_length=25,\n",
    "):\n",
    "    model.eval()\n",
    "    with torch.no_grad():\n",
    "        if isinstance(sentence, str):\n",
    "            tokens = [token.text for token in de_nlp.tokenizer(sentence)]\n",
    "        else:\n",
    "            tokens = [token for token in sentence]\n",
    "        if lower:\n",
    "            tokens = [token.lower() for token in tokens]\n",
    "        tokens = [sos_token] + tokens + [eos_token]\n",
    "        ids = de_vocab.lookup_indices(tokens)\n",
    "        tensor = torch.LongTensor(ids).unsqueeze(-1).to(device)\n",
    "        hidden, cell = model.encoder(tensor)\n",
    "        inputs = en_vocab.lookup_indices([sos_token])\n",
    "        for _ in range(max_output_length):\n",
    "            inputs_tensor = torch.LongTensor([inputs[-1]]).to(device)\n",
    "            output, hidden, cell = model.decoder(inputs_tensor, hidden, cell)\n",
    "            predicted_token = output.argmax(-1).item()\n",
    "            inputs.append(predicted_token)\n",
    "            if predicted_token == en_vocab[eos_token]:\n",
    "                break\n",
    "        tokens = en_vocab.lookup_tokens(inputs)\n",
    "    return tokens"
   ]
  },
  {
   "cell_type": "code",
   "execution_count": 47,
   "id": "2ca97c18-705e-4334-9a53-8571c2948bd2",
   "metadata": {},
   "outputs": [
    {
     "data": {
      "text/plain": [
       "('Ein Mann mit einem orangefarbenen Hut, der etwas anstarrt.',\n",
       " 'A man in an orange hat starring at something.')"
      ]
     },
     "execution_count": 47,
     "metadata": {},
     "output_type": "execute_result"
    }
   ],
   "source": [
    "sentence = test_data[0][\"de\"]\n",
    "expected_translation = test_data[0][\"en\"]\n",
    "\n",
    "sentence, expected_translation"
   ]
  },
  {
   "cell_type": "code",
   "execution_count": 48,
   "id": "1c764d88-bb08-4e5b-9286-d878e5850219",
   "metadata": {},
   "outputs": [],
   "source": [
    "translation = translate_sentence(\n",
    "    sentence,\n",
    "    model,\n",
    "    en_nlp,\n",
    "    de_nlp,\n",
    "    en_vocab,\n",
    "    de_vocab,\n",
    "    lower,\n",
    "    sos_token,\n",
    "    eos_token,\n",
    "    device,\n",
    ")"
   ]
  },
  {
   "cell_type": "markdown",
   "id": "d60f6a07-0e2a-4fc8-bbc0-c3d2344108d3",
   "metadata": {},
   "source": [
    "# 22、运行下方单元格，得到测试集第0个索引的翻译\n",
    "因为epoch只进行了一轮，不会有好的效果的翻译。\n",
    "感兴趣的同学可自行增加训练轮数，观察loss和翻译质量的变化。"
   ]
  },
  {
   "cell_type": "code",
   "execution_count": 49,
   "id": "ebce4e42-bdcf-4be7-bd73-fd7f2379f3c6",
   "metadata": {},
   "outputs": [
    {
     "data": {
      "text/plain": [
       "['<sos>',\n",
       " 'a',\n",
       " 'man',\n",
       " 'in',\n",
       " 'a',\n",
       " 'a',\n",
       " 'shirt',\n",
       " 'is',\n",
       " 'a',\n",
       " 'a',\n",
       " 'a',\n",
       " '.',\n",
       " '<eos>']"
      ]
     },
     "execution_count": 49,
     "metadata": {},
     "output_type": "execute_result"
    }
   ],
   "source": [
    "translation"
   ]
  }
 ],
 "metadata": {
  "kernelspec": {
   "display_name": "Python 3 (ipykernel)",
   "language": "python",
   "name": "python3"
  },
  "language_info": {
   "codemirror_mode": {
    "name": "ipython",
    "version": 3
   },
   "file_extension": ".py",
   "mimetype": "text/x-python",
   "name": "python",
   "nbconvert_exporter": "python",
   "pygments_lexer": "ipython3",
   "version": "3.9.21"
  }
 },
 "nbformat": 4,
 "nbformat_minor": 5
}
